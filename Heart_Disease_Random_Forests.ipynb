{
 "cells": [
  {
   "cell_type": "markdown",
   "metadata": {},
   "source": [
    "# Predicting Heart Disease with Random Forests\n",
    "\n",
    "The dataset is taken form the UCI Machine Learning Repository: https://archive.ics.uci.edu/ml/datasets/Heart+Disease.\n",
    "\n",
    "It includes 303 rows, and 14 columns. The goal is to predict heart disease. Here are the description of the column features.\n",
    "\n",
    "1. age: age in years\n",
    "2. sex: sex (1 = male; 0 = female)\n",
    "3. cp: chest pain type (1: typical angina, 2: atypical anginav, 3: non-anginal pain, 4: asymptomatic)\n",
    "4. trestbps: resting blood pressure (in mm Hg on admission to the hospital)\n",
    "5. chol: serum cholestoral in mg/dl\n",
    "6 fbs: (fasting blood sugar > 120 mg/dl) (1 = true; 0 = false)\n",
    "7. restecg: resting electrocardiographic results (0: normal, 1: having ST-T wave abnormality (T wave inversions and/or ST elevation or depression of > 0.05 mV), 2: showing probable or definite left ventricular hypertrophy by Estes' criteria)\n",
    "8. thalach: maximum heart rate achieved\n",
    "9. exang: exercise induced angina (1 = yes; 0 = no)\n",
    "10. oldpeak = ST depression induced by exercise relative to rest\n",
    "11. slope: the slope of the peak exercise ST segment (1: upsloping, 2: flat, 3: downsloping)\n",
    "12. ca: number of major vessels (0-3) colored by flourosopy\n",
    "13. thal: 3 = normal; 6 = fixed defect; 7 = reversable defect\n",
    "14. num: diagnosis of heart disease (angiographic disease status)\n",
    "-- Value 0: < 50% diameter narrowing\n",
    "-- Value 1: > 50% diameter narrowing"
   ]
  },
  {
   "cell_type": "markdown",
   "metadata": {},
   "source": [
    "# 1. Download the Data\n",
    "Download the data to the same folder as your jupyter notebook if you have not done so already.\n",
    "See github/coreyjwade/heart_disease."
   ]
  },
  {
   "cell_type": "markdown",
   "metadata": {},
   "source": [
    "# 2. Prepare Data for ML\n",
    "Run the next five cells to import the data, check it, then split it into feature and target columns for ML."
   ]
  },
  {
   "cell_type": "code",
   "execution_count": null,
   "metadata": {},
   "outputs": [],
   "source": [
    "# Import pandas\n",
    "import pandas as pd\n",
    "\n",
    "# Import numpy\n",
    "import numpy as np\n",
    "\n",
    "# Import matplotlib\n",
    "import matplotlib.pyplot as plt\n",
    "%matplotlib inline\n",
    "\n",
    "# Import seaborn\n",
    "import seaborn as sns\n",
    "\n",
    "# Set seaborn darkgrid\n",
    "sns.set()"
   ]
  },
  {
   "cell_type": "code",
   "execution_count": null,
   "metadata": {},
   "outputs": [],
   "source": [
    "# Upload heart.csv to dataFrame\n",
    "df = pd.read_csv('heart.csv')"
   ]
  },
  {
   "cell_type": "code",
   "execution_count": null,
   "metadata": {},
   "outputs": [],
   "source": [
    "# Display first give rows of dataFrame\n",
    "df.head()"
   ]
  },
  {
   "cell_type": "code",
   "execution_count": null,
   "metadata": {},
   "outputs": [],
   "source": [
    "# Check info\n",
    "df.info()"
   ]
  },
  {
   "cell_type": "code",
   "execution_count": null,
   "metadata": {},
   "outputs": [],
   "source": [
    "# Select target column\n",
    "y = df['target']\n",
    "\n",
    "# Select feature columns\n",
    "X = df.drop(['target'], axis=1)\n",
    "\n",
    "# Import train_test_split\n",
    "from sklearn.model_selection import train_test_split\n",
    "\n",
    "# Split data into train and test sets\n",
    "X_train, X_test, y_train, y_test = train_test_split(X, y, stratify=y)"
   ]
  },
  {
   "cell_type": "markdown",
   "metadata": {},
   "source": [
    "# 3. Building random forests\n",
    "It's time to build a random forest model!"
   ]
  },
  {
   "cell_type": "code",
   "execution_count": null,
   "metadata": {},
   "outputs": [],
   "source": [
    "# Import Random Forest Classifier\n",
    "\n",
    "\n",
    "# Import accuracy score\n",
    "\n",
    "\n",
    "# Instantiate Random Forest Classifier\n",
    "\n",
    "\n",
    "# Fit model to data\n",
    "\n",
    "\n",
    "# Predict y_values\n",
    "\n",
    "\n",
    "# Show accuracy\n"
   ]
  },
  {
   "cell_type": "code",
   "execution_count": null,
   "metadata": {},
   "outputs": [],
   "source": [
    "# Define random forest function\n",
    "'''\n",
    "This function takes a random forest classifier as input, and outputs the accuracy of the model on pre-defined \n",
    "X_train, y_train, X_test, y_test. RandomForestClassifier and accuracy_score should already be imported.\n",
    "'''\n",
    "def random_forest_classifier(rf=RandomForestClassifier(n_estimators=100, n_jobs=-1)):\n",
    "     \n",
    "    # Fit model to data\n",
    "    rf.fit(X_train, y_train)\n",
    "    \n",
    "    # Predict y_values \n",
    "    y_pred = rf.predict(X_test)\n",
    "    \n",
    "    # Define accuracy\n",
    "    accuracy = accuracy_score(y_pred, y_test)\n",
    "    \n",
    "    # Return accuracy\n",
    "    return accuracy"
   ]
  },
  {
   "cell_type": "code",
   "execution_count": null,
   "metadata": {},
   "outputs": [],
   "source": [
    "# Run random_forest_classifier\n"
   ]
  },
  {
   "cell_type": "code",
   "execution_count": null,
   "metadata": {},
   "outputs": [],
   "source": [
    "# Change n_estimators to 250\n"
   ]
  },
  {
   "cell_type": "code",
   "execution_count": null,
   "metadata": {},
   "outputs": [],
   "source": [
    "# Change n_estimators to 500\n"
   ]
  },
  {
   "cell_type": "code",
   "execution_count": null,
   "metadata": {},
   "outputs": [],
   "source": [
    "# Change n_estimators to 50\n"
   ]
  },
  {
   "cell_type": "markdown",
   "metadata": {},
   "source": [
    "1. What happens if you change the hyperparmater max_depth? \n",
    "2. How can you see all the features that are available?\n",
    "3. What else can we do to improve the score?"
   ]
  },
  {
   "cell_type": "markdown",
   "metadata": {},
   "source": [
    "# 4. feature_importances_\n",
    "We will now find the most important features"
   ]
  },
  {
   "cell_type": "code",
   "execution_count": null,
   "metadata": {},
   "outputs": [],
   "source": [
    "# Display feature_importances_ of columns\n"
   ]
  },
  {
   "cell_type": "code",
   "execution_count": null,
   "metadata": {},
   "outputs": [],
   "source": [
    "# Zip columns and feature_importances_ into dict\n",
    "feature_dict = dict(zip(X.columns, rf.feature_importances_))\n",
    "\n",
    "# Import operator\n",
    "import operator\n",
    "\n",
    "# Sort dict by values (as list of tuples)\n",
    "sorted(feature_dict.items(), key=operator.itemgetter(1), reverse=True)"
   ]
  },
  {
   "cell_type": "markdown",
   "metadata": {},
   "source": [
    "# 5. Bonus Cells"
   ]
  },
  {
   "cell_type": "code",
   "execution_count": null,
   "metadata": {},
   "outputs": [],
   "source": [
    "# Plot histograms of most important features"
   ]
  },
  {
   "cell_type": "code",
   "execution_count": null,
   "metadata": {},
   "outputs": [],
   "source": [
    "# Change hyperparamters to try and improve model"
   ]
  },
  {
   "cell_type": "code",
   "execution_count": 1,
   "metadata": {},
   "outputs": [],
   "source": [
    "# Run GridSearchCV or RandomSearchCV to optimze hyperparamters"
   ]
  },
  {
   "cell_type": "markdown",
   "metadata": {},
   "source": [
    "# 6. Independent Work\n",
    "\n",
    "1. Go to https://www.kaggle.com/c/house-prices-advanced-regression-techniques/overview.\n",
    "2. Download data.\n",
    "3. Read train.csv into a dataFrame\n",
    "4. Use RandomForestRegressor to predict sale price of houses\n",
    "\n",
    "Note - RandomForestRegressor is implemented the same way as RandomForestClassifier. The only difference is the scoring. Instead of accuracy_score, use the root mean squared error with mean_squared_error as follows:\n",
    "\n",
    "- from sklearn.metrics import mean_squared_error as MSE\n",
    "\n",
    "- mse_test = MSE(y_test, y_pred)\n",
    "\n",
    "- rmse_test = mse_test**0.5"
   ]
  },
  {
   "cell_type": "code",
   "execution_count": null,
   "metadata": {},
   "outputs": [],
   "source": []
  }
 ],
 "metadata": {
  "kernelspec": {
   "display_name": "Python 3",
   "language": "python",
   "name": "python3"
  },
  "language_info": {
   "codemirror_mode": {
    "name": "ipython",
    "version": 3
   },
   "file_extension": ".py",
   "mimetype": "text/x-python",
   "name": "python",
   "nbconvert_exporter": "python",
   "pygments_lexer": "ipython3",
   "version": "3.7.3"
  }
 },
 "nbformat": 4,
 "nbformat_minor": 2
}
